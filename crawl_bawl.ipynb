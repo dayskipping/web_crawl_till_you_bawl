{
 "cells": [
  {
   "cell_type": "markdown",
   "metadata": {},
   "source": [
    "##### To get the word count, we ran this in bash:\n",
    "\n",
    "$SPARK_HOME/bin/spark-submit ./word_count.py \\\n",
    "\t--num_output_partitions 1 --log_level WARN \\\n",
    "\t./input/test_wet.txt wordcounts\n",
    "\n",
    "##### To get the server names, we ran this in bash:\n",
    "\n",
    "$SPARK_HOME/bin/spark-submit ./server_count.py \\\n",
    "\t--num_output_partitions 1 --log_level WARN \\\n",
    "\t./input/test_warc.txt servernames\n",
    "    \n",
    "##### To get links, we ran this in bash:\n",
    "\n",
    "$SPARK_HOME/bin/spark-submit ./wat_extract_links.py \\\n",
    "\t--num_output_partitions 1 --log_level WARN \\\n",
    "\t./input/test_wat.txt links"
   ]
  },
  {
   "cell_type": "code",
   "execution_count": 19,
   "metadata": {},
   "outputs": [],
   "source": [
    "import pyspark as ps\n",
    "from pyspark.sql import SQLContext\n",
    "from pyspark.sql.types import *\n",
    "import pyspark.sql.functions as F\n",
    "from pyspark.ml.feature import VectorAssembler, MinMaxScaler, RegexTokenizer, HashingTF, PCA\n",
    "from pyspark.ml.classification import LogisticRegression\n",
    "from pyspark.ml import Pipeline\n",
    "from pyspark.ml.feature import StringIndexer, OneHotEncoder\n",
    "\n",
    "from pyspark.ml.regression import GBTRegressor\n",
    "from pyspark.ml.evaluation import RegressionEvaluator\n",
    "import ujson as json"
   ]
  },
  {
   "cell_type": "code",
   "execution_count": 20,
   "metadata": {},
   "outputs": [],
   "source": [
    "spark = ps.sql.SparkSession.builder.master(\"local\")\\\n",
    "                                    .appName(\"web_crawl\")\\\n",
    "                                    .getOrCreate()"
   ]
  },
  {
   "cell_type": "code",
   "execution_count": 21,
   "metadata": {},
   "outputs": [
    {
     "name": "stdout",
     "output_type": "stream",
     "text": [
      "root\n",
      " |-- key: string (nullable = true)\n",
      " |-- val: long (nullable = true)\n",
      "\n"
     ]
    }
   ],
   "source": [
    "servercounts = spark.read.parquet('servernames')\n",
    "servernames.printSchema()\n",
    "\n",
    "wordcounts = spark.read.parquet('wordcounts')\n",
    "wordcounts.printSchema()\n",
    "\n",
    "linkextract = spark.read.parquet('links')\n",
    "linkextract.printSchema()"
   ]
  },
  {
   "cell_type": "code",
   "execution_count": 23,
   "metadata": {},
   "outputs": [
    {
     "name": "stdout",
     "output_type": "stream",
     "text": [
      "root\n",
      " |-- key: string (nullable = true)\n",
      " |-- val: struct (nullable = true)\n",
      " |    |-- tf: long (nullable = true)\n",
      " |    |-- df: long (nullable = true)\n",
      "\n"
     ]
    }
   ],
   "source": []
  },
  {
   "cell_type": "code",
   "execution_count": 25,
   "metadata": {},
   "outputs": [
    {
     "name": "stdout",
     "output_type": "stream",
     "text": [
      "+--------------------+----------+\n",
      "|                 key|       val|\n",
      "+--------------------+----------+\n",
      "|         47207221вск|    [1, 1]|\n",
      "|         деструкторы|    [1, 1]|\n",
      "|               سادات|    [8, 8]|\n",
      "|              werner|[190, 119]|\n",
      "|              τραύμα|    [2, 2]|\n",
      "|             acortar|    [4, 4]|\n",
      "|         unbelievers|    [9, 7]|\n",
      "|       transcription|[279, 106]|\n",
      "|          spacewalks|    [1, 1]|\n",
      "|             อสำรองท|    [1, 1]|\n",
      "|            طحانشاطر|    [1, 1]|\n",
      "|             三天两头出疑问|    [1, 1]|\n",
      "|              hauser|  [56, 26]|\n",
      "|          empfundene|    [1, 1]|\n",
      "|        実際の大きさは１mm程度|    [1, 1]|\n",
      "|先生ほどの人でも少しはおこまりでしょうな|    [1, 1]|\n",
      "|            trotters|  [15, 13]|\n",
      "|             morsels|  [17, 13]|\n",
      "|               izumi|  [46, 33]|\n",
      "|            andrew61|    [2, 1]|\n",
      "+--------------------+----------+\n",
      "only showing top 20 rows\n",
      "\n"
     ]
    }
   ],
   "source": [
    "wordcounts.show()"
   ]
  },
  {
   "cell_type": "code",
   "execution_count": null,
   "metadata": {},
   "outputs": [],
   "source": []
  }
 ],
 "metadata": {
  "kernelspec": {
   "display_name": "Python 3",
   "language": "python",
   "name": "python3"
  },
  "language_info": {
   "codemirror_mode": {
    "name": "ipython",
    "version": 3
   },
   "file_extension": ".py",
   "mimetype": "text/x-python",
   "name": "python",
   "nbconvert_exporter": "python",
   "pygments_lexer": "ipython3",
   "version": "3.6.4"
  }
 },
 "nbformat": 4,
 "nbformat_minor": 2
}
